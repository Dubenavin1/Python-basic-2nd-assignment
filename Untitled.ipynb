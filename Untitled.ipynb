{
 "cells": [
  {
   "cell_type": "markdown",
   "id": "94f0c0b8",
   "metadata": {},
   "source": [
    "1.What are the two values of the Boolean data type? How do you write them?"
   ]
  },
  {
   "cell_type": "code",
   "execution_count": null,
   "id": "c2eff975",
   "metadata": {},
   "outputs": [],
   "source": [
    "True and False _is the two values of the boolean data type., \n",
    "using capital T and F, with the rest of the word in lowercase"
   ]
  },
  {
   "cell_type": "code",
   "execution_count": null,
   "id": "1fda52be",
   "metadata": {},
   "outputs": [],
   "source": []
  },
  {
   "cell_type": "code",
   "execution_count": null,
   "id": "e77e08ac",
   "metadata": {},
   "outputs": [],
   "source": []
  },
  {
   "cell_type": "markdown",
   "id": "9316b17e",
   "metadata": {},
   "source": [
    "2. What are the three different types of Boolean operators?"
   ]
  },
  {
   "cell_type": "code",
   "execution_count": null,
   "id": "cb1ea78f",
   "metadata": {},
   "outputs": [],
   "source": [
    "Ans-the three different types of Boolean operators_is, and,or ,not"
   ]
  },
  {
   "cell_type": "code",
   "execution_count": null,
   "id": "f128a2dd",
   "metadata": {},
   "outputs": [],
   "source": []
  },
  {
   "cell_type": "markdown",
   "id": "1ea378f9",
   "metadata": {},
   "source": [
    "3. Make a list of each Boolean operator&#39;s truth tables (i.e. every possible combination of Boolean\n",
    "values for the operator and what it evaluate )."
   ]
  },
  {
   "cell_type": "code",
   "execution_count": null,
   "id": "775fb2b2",
   "metadata": {},
   "outputs": [],
   "source": [
    "Ans-True and True is True.\n",
    "\n",
    "True and False is False.\n",
    "\n",
    "False and True is False.\n",
    "\n",
    "False and False is False.\n",
    "\n",
    "True or True is True.\n",
    "\n",
    "True or False is True.\n",
    "\n",
    "False or True is True.\n",
    "\n",
    "False or False is False.\n"
   ]
  },
  {
   "cell_type": "markdown",
   "id": "76b207e8",
   "metadata": {},
   "source": []
  },
  {
   "cell_type": "markdown",
   "id": "ab3deae4",
   "metadata": {},
   "source": [
    "4. What are the values of the following expressions?\n",
    "(5 &gt; 4) and (3 == 5)\n",
    "not (5 &gt; 4)\n",
    "(5 &gt; 4) or (3 == 5)\n",
    "not ((5 &gt; 4) or (3 == 5))\n",
    "(True and True) and (True == False)\n",
    "(not False) or (not True)"
   ]
  },
  {
   "cell_type": "code",
   "execution_count": null,
   "id": "bfeefe93",
   "metadata": {},
   "outputs": [],
   "source": [
    "Ans-False\n",
    "False\n",
    "True\n",
    "False\n",
    "False\n",
    "True"
   ]
  },
  {
   "cell_type": "code",
   "execution_count": null,
   "id": "0e48d403",
   "metadata": {},
   "outputs": [],
   "source": []
  },
  {
   "cell_type": "markdown",
   "id": "319c0c3c",
   "metadata": {},
   "source": [
    "5. What are the six comparison operators?"
   ]
  },
  {
   "cell_type": "code",
   "execution_count": 4,
   "id": "710f04d3",
   "metadata": {},
   "outputs": [
    {
     "data": {
      "text/plain": [
       "False"
      ]
     },
     "execution_count": 4,
     "metadata": {},
     "output_type": "execute_result"
    }
   ],
   "source": [
    "==, !=, <, >, <=, and >=."
   ]
  },
  {
   "cell_type": "markdown",
   "id": "54129887",
   "metadata": {},
   "source": []
  },
  {
   "cell_type": "markdown",
   "id": "c3cb6ce2",
   "metadata": {},
   "source": [
    "6. How do you tell the difference between the equal to and assignment operators?Describe a\n",
    "condition and when you would use one."
   ]
  },
  {
   "cell_type": "code",
   "execution_count": null,
   "id": "d44724b0",
   "metadata": {},
   "outputs": [],
   "source": [
    "Ans=== is the equal to operator that compares two values and evaluates to a Boolean, \n",
    "while = is the assignment operator that stores a value in a variable."
   ]
  },
  {
   "cell_type": "code",
   "execution_count": null,
   "id": "fad6e418",
   "metadata": {},
   "outputs": [],
   "source": []
  },
  {
   "cell_type": "markdown",
   "id": "5bb40c8d",
   "metadata": {},
   "source": [
    "7. Identify the three blocks in this code:\n",
    "spam = 0\n",
    "if spam == 10:\n",
    "print(&#39;eggs&#39;)\n",
    "if spam &gt; 5:\n",
    "print(&#39;bacon&#39;)\n",
    "else:\n",
    "print(&#39;ham&#39;)\n",
    "print(&#39;spam&#39;)\n",
    "print(&#39;spam&#39;)"
   ]
  },
  {
   "cell_type": "code",
   "execution_count": null,
   "id": "e8e2b80b",
   "metadata": {},
   "outputs": [],
   "source": [
    "Ans=print('eggs')\n",
    "if spam > 5:\n",
    "print('bacon')\n",
    "else:\n",
    "print('ham')\n",
    "print('spam')"
   ]
  },
  {
   "cell_type": "code",
   "execution_count": null,
   "id": "304a4542",
   "metadata": {},
   "outputs": [],
   "source": []
  },
  {
   "cell_type": "markdown",
   "id": "8ae0eabc",
   "metadata": {},
   "source": [
    "8. Write code that prints Hello if 1 is stored in spam, prints Howdy if 2 is stored in spam, and prints\n",
    "Greetings! if anything else is stored in spam."
   ]
  },
  {
   "cell_type": "code",
   "execution_count": null,
   "id": "9f6ae7c1",
   "metadata": {},
   "outputs": [],
   "source": [
    "Ans=The code:\n",
    "\n",
    "if spam == 1:\n",
    "print('Hello')\n",
    "elif spam == 2:\n",
    "print('Howdy')\n",
    "else:\n",
    "print('Greetings!')"
   ]
  },
  {
   "cell_type": "code",
   "execution_count": null,
   "id": "f45022dc",
   "metadata": {},
   "outputs": [],
   "source": []
  },
  {
   "cell_type": "markdown",
   "id": "48e71113",
   "metadata": {},
   "source": [
    "9.If your programme is stuck in an endless loop, what keys you’ll press?"
   ]
  },
  {
   "cell_type": "code",
   "execution_count": null,
   "id": "e5e4b052",
   "metadata": {},
   "outputs": [],
   "source": [
    "Ans=Press CTRL-C to stop a program stuck in an infinite loop."
   ]
  },
  {
   "cell_type": "code",
   "execution_count": null,
   "id": "f6402c50",
   "metadata": {},
   "outputs": [],
   "source": []
  },
  {
   "cell_type": "markdown",
   "id": "3a9f8004",
   "metadata": {},
   "source": [
    "10. How can you tell the difference between break and continue?"
   ]
  },
  {
   "cell_type": "code",
   "execution_count": null,
   "id": "6a9180f1",
   "metadata": {},
   "outputs": [],
   "source": [
    "Ans=The break statement will move the execution outside and just after a loop.\n",
    "The continue statement will move the execution to the start of the loop."
   ]
  },
  {
   "cell_type": "code",
   "execution_count": null,
   "id": "8ba994f7",
   "metadata": {},
   "outputs": [],
   "source": []
  },
  {
   "cell_type": "markdown",
   "id": "aae8ffbc",
   "metadata": {},
   "source": [
    "11. In a for loop, what is the difference between range(10), range(0, 10), and range(0, 10, 1)?"
   ]
  },
  {
   "cell_type": "code",
   "execution_count": null,
   "id": "63a9a324",
   "metadata": {},
   "outputs": [],
   "source": [
    "Ans=They all do the same thing. The range(10) call ranges from 0 up to (but not including) 10, \n",
    "range(0, 10) explicitly tells the loop to start at 0, \n",
    "and range(0, 10, 1) explicitly tells the loop to increase the variable by 1 on each iteration."
   ]
  },
  {
   "cell_type": "code",
   "execution_count": null,
   "id": "8394620d",
   "metadata": {},
   "outputs": [],
   "source": []
  },
  {
   "cell_type": "markdown",
   "id": "e833c0ab",
   "metadata": {},
   "source": [
    "12. Write a short program that prints the numbers 1 to 10 using a for loop. Then write an equivalent\n",
    "program that prints the numbers 1 to 10 using a while loop."
   ]
  },
  {
   "cell_type": "code",
   "execution_count": null,
   "id": "9a7d88f3",
   "metadata": {},
   "outputs": [],
   "source": [
    "Ans=\n",
    "for i in range(1, 11):\n",
    "print(i)\n",
    "\n",
    "and:\n",
    "\n",
    "i = 1\n",
    "while i <= 10:\n",
    "print(i)\n",
    "i = i + 1"
   ]
  },
  {
   "cell_type": "code",
   "execution_count": null,
   "id": "a556d0db",
   "metadata": {},
   "outputs": [],
   "source": []
  },
  {
   "cell_type": "markdown",
   "id": "914af266",
   "metadata": {},
   "source": [
    "13. If you had a function named bacon() inside a module named spam, how would you call it after\n",
    "importing spam?"
   ]
  },
  {
   "cell_type": "code",
   "execution_count": null,
   "id": "1798f4cb",
   "metadata": {},
   "outputs": [],
   "source": [
    "Ans=his function can be called with spam.bacon()."
   ]
  },
  {
   "cell_type": "code",
   "execution_count": null,
   "id": "c0631764",
   "metadata": {},
   "outputs": [],
   "source": []
  }
 ],
 "metadata": {
  "kernelspec": {
   "display_name": "Python 3 (ipykernel)",
   "language": "python",
   "name": "python3"
  },
  "language_info": {
   "codemirror_mode": {
    "name": "ipython",
    "version": 3
   },
   "file_extension": ".py",
   "mimetype": "text/x-python",
   "name": "python",
   "nbconvert_exporter": "python",
   "pygments_lexer": "ipython3",
   "version": "3.9.13"
  }
 },
 "nbformat": 4,
 "nbformat_minor": 5
}
